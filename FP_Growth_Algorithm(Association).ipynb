{
  "nbformat": 4,
  "nbformat_minor": 0,
  "metadata": {
    "colab": {
      "name": "FP Growth Algorithm(Association).ipynb",
      "provenance": [],
      "collapsed_sections": [],
      "mount_file_id": "1fkBzPfC76maXIy8ctChnNvwpUgxaZPgM",
      "authorship_tag": "ABX9TyNgPKLScbpefG6FRFTsdkSU",
      "include_colab_link": true
    },
    "kernelspec": {
      "display_name": "Python 3",
      "name": "python3"
    },
    "language_info": {
      "name": "python"
    }
  },
  "cells": [
    {
      "cell_type": "markdown",
      "metadata": {
        "id": "view-in-github",
        "colab_type": "text"
      },
      "source": [
        "<a href=\"https://colab.research.google.com/github/Dushanthimadhushika3/FP-Growth-Algorithm/blob/main/FP_Growth_Algorithm(Association).ipynb\" target=\"_parent\"><img src=\"https://colab.research.google.com/assets/colab-badge.svg\" alt=\"Open In Colab\"/></a>"
      ]
    },
    {
      "cell_type": "code",
      "metadata": {
        "colab": {
          "base_uri": "https://localhost:8080/"
        },
        "id": "IVvyWlQ-pIKL",
        "outputId": "7456343e-b8e0-4e0d-f271-268c2de5e4f4"
      },
      "source": [
        "!pip install pyspark"
      ],
      "execution_count": 56,
      "outputs": [
        {
          "output_type": "stream",
          "text": [
            "Requirement already satisfied: pyspark in /usr/local/lib/python3.7/dist-packages (3.1.2)\n",
            "Requirement already satisfied: py4j==0.10.9 in /usr/local/lib/python3.7/dist-packages (from pyspark) (0.10.9)\n"
          ],
          "name": "stdout"
        }
      ]
    },
    {
      "cell_type": "code",
      "metadata": {
        "id": "9iqk65qfuIoN"
      },
      "source": [
        "import pandas as pd\n",
        "import glob\n",
        "\n",
        "from pyspark.sql import SparkSession\n",
        "\n",
        "# Import the FPGrowth API from PySpark\n",
        "from pyspark.ml.fpm import FPGrowth\n",
        "from pyspark.sql import SQLContext\n",
        "\n",
        "spark = SparkSession.builder.master(\"local\").appName(\"Colab\")\\\n",
        "        .config('spark.ui.port', '4050').getOrCreate()"
      ],
      "execution_count": 69,
      "outputs": []
    },
    {
      "cell_type": "code",
      "metadata": {
        "id": "di9lx1Lzvgdw"
      },
      "source": [
        "csv = glob.glob('/content/drive/MyDrive/L4S1/Big Data/Data/Datasets'+'/*.csv')\n",
        "\n",
        "# Read the data from the dataset\n",
        "for f in csv:\n",
        "  df = pd.read_csv(f)"
      ],
      "execution_count": 70,
      "outputs": []
    },
    {
      "cell_type": "code",
      "metadata": {
        "colab": {
          "base_uri": "https://localhost:8080/",
          "height": 289
        },
        "id": "MckCsj1tDGve",
        "outputId": "39ff409f-3059-4e02-dd08-e3d3e4fda2c3"
      },
      "source": [
        "df.head()"
      ],
      "execution_count": 59,
      "outputs": [
        {
          "output_type": "execute_result",
          "data": {
            "text/html": [
              "<div>\n",
              "<style scoped>\n",
              "    .dataframe tbody tr th:only-of-type {\n",
              "        vertical-align: middle;\n",
              "    }\n",
              "\n",
              "    .dataframe tbody tr th {\n",
              "        vertical-align: top;\n",
              "    }\n",
              "\n",
              "    .dataframe thead th {\n",
              "        text-align: right;\n",
              "    }\n",
              "</style>\n",
              "<table border=\"1\" class=\"dataframe\">\n",
              "  <thead>\n",
              "    <tr style=\"text-align: right;\">\n",
              "      <th></th>\n",
              "      <th>event_time</th>\n",
              "      <th>event_type</th>\n",
              "      <th>product_id</th>\n",
              "      <th>category_id</th>\n",
              "      <th>category_code</th>\n",
              "      <th>brand</th>\n",
              "      <th>price</th>\n",
              "      <th>user_id</th>\n",
              "      <th>user_session</th>\n",
              "    </tr>\n",
              "  </thead>\n",
              "  <tbody>\n",
              "    <tr>\n",
              "      <th>0</th>\n",
              "      <td>2019-12-01 00:00:00 UTC</td>\n",
              "      <td>remove_from_cart</td>\n",
              "      <td>5712790</td>\n",
              "      <td>1487580005268456287</td>\n",
              "      <td>NaN</td>\n",
              "      <td>f.o.x</td>\n",
              "      <td>6.27</td>\n",
              "      <td>576802932</td>\n",
              "      <td>51d85cb0-897f-48d2-918b-ad63965c12dc</td>\n",
              "    </tr>\n",
              "    <tr>\n",
              "      <th>1</th>\n",
              "      <td>2019-12-01 00:00:00 UTC</td>\n",
              "      <td>view</td>\n",
              "      <td>5764655</td>\n",
              "      <td>1487580005411062629</td>\n",
              "      <td>NaN</td>\n",
              "      <td>cnd</td>\n",
              "      <td>29.05</td>\n",
              "      <td>412120092</td>\n",
              "      <td>8adff31e-2051-4894-9758-224bfa8aec18</td>\n",
              "    </tr>\n",
              "    <tr>\n",
              "      <th>2</th>\n",
              "      <td>2019-12-01 00:00:02 UTC</td>\n",
              "      <td>cart</td>\n",
              "      <td>4958</td>\n",
              "      <td>1487580009471148064</td>\n",
              "      <td>NaN</td>\n",
              "      <td>runail</td>\n",
              "      <td>1.19</td>\n",
              "      <td>494077766</td>\n",
              "      <td>c99a50e8-2fac-4c4d-89ec-41c05f114554</td>\n",
              "    </tr>\n",
              "    <tr>\n",
              "      <th>3</th>\n",
              "      <td>2019-12-01 00:00:05 UTC</td>\n",
              "      <td>view</td>\n",
              "      <td>5848413</td>\n",
              "      <td>1487580007675986893</td>\n",
              "      <td>NaN</td>\n",
              "      <td>freedecor</td>\n",
              "      <td>0.79</td>\n",
              "      <td>348405118</td>\n",
              "      <td>722ffea5-73c0-4924-8e8f-371ff8031af4</td>\n",
              "    </tr>\n",
              "    <tr>\n",
              "      <th>4</th>\n",
              "      <td>2019-12-01 00:00:07 UTC</td>\n",
              "      <td>view</td>\n",
              "      <td>5824148</td>\n",
              "      <td>1487580005511725929</td>\n",
              "      <td>NaN</td>\n",
              "      <td>NaN</td>\n",
              "      <td>5.56</td>\n",
              "      <td>576005683</td>\n",
              "      <td>28172809-7e4a-45ce-bab0-5efa90117cd5</td>\n",
              "    </tr>\n",
              "  </tbody>\n",
              "</table>\n",
              "</div>"
            ],
            "text/plain": [
              "                event_time  ...                          user_session\n",
              "0  2019-12-01 00:00:00 UTC  ...  51d85cb0-897f-48d2-918b-ad63965c12dc\n",
              "1  2019-12-01 00:00:00 UTC  ...  8adff31e-2051-4894-9758-224bfa8aec18\n",
              "2  2019-12-01 00:00:02 UTC  ...  c99a50e8-2fac-4c4d-89ec-41c05f114554\n",
              "3  2019-12-01 00:00:05 UTC  ...  722ffea5-73c0-4924-8e8f-371ff8031af4\n",
              "4  2019-12-01 00:00:07 UTC  ...  28172809-7e4a-45ce-bab0-5efa90117cd5\n",
              "\n",
              "[5 rows x 9 columns]"
            ]
          },
          "metadata": {
            "tags": []
          },
          "execution_count": 59
        }
      ]
    },
    {
      "cell_type": "code",
      "metadata": {
        "colab": {
          "base_uri": "https://localhost:8080/"
        },
        "id": "qTb4ah_aNsmw",
        "outputId": "22b6db32-4969-4ffc-de54-3c68dd637be4"
      },
      "source": [
        "sc = df[['user_session','brand','user_id','event_type']]\n",
        "sc = sc.loc[sc['event_type']=='purchase']\n",
        "sc = sc[['user_session','brand']]\n",
        "sc = sc.dropna()\n",
        "print(sc.shape)\n",
        "sc.head()\n",
        "\n",
        "sc.to_csv('/content/purchase.csv')"
      ],
      "execution_count": 71,
      "outputs": [
        {
          "output_type": "stream",
          "text": [
            "(121481, 2)\n"
          ],
          "name": "stdout"
        }
      ]
    },
    {
      "cell_type": "code",
      "metadata": {
        "id": "zpjCqDI5cdcy",
        "colab": {
          "base_uri": "https://localhost:8080/"
        },
        "outputId": "1e110a0a-c179-4c9e-a664-9f552e486ab7"
      },
      "source": [
        "session_id_col_name = 'user_session'\n",
        "product_id_col_name = 'brand'\n",
        "session_id_col_index = -1\n",
        "product_id_col_index = -1\n",
        "data = dict()\n",
        "\n",
        "with open('/content/purchase.csv') as f:\n",
        "    lis = [line.rstrip().split(',') for line in f]        \n",
        "    for i, x in enumerate(lis):              \n",
        "        if i == 0:\n",
        "            if type(x) is list and session_id_col_name in x and product_id_col_name in x: # column names\n",
        "                session_id_col_index = x.index(session_id_col_name)\n",
        "                product_id_col_index = x.index(product_id_col_name)\n",
        "            else:\n",
        "                print('Required columns does not exists in given csv file')\n",
        "                break\n",
        "        else:\n",
        "            if x[session_id_col_index] in data:\n",
        "                data[x[session_id_col_index]] = data[x[session_id_col_index]] + ',' + x[product_id_col_index]\n",
        "            else:\n",
        "                data[x[session_id_col_index]] = x[product_id_col_index]\n",
        "\n",
        "\n",
        "# Create the pandas DataFrame\n",
        "dataframe = pd.DataFrame(list(data.items()),columns=[session_id_col_name,product_id_col_name])\n",
        "dataframe.head()\n",
        "print(dataframe.shape)\n"
      ],
      "execution_count": 72,
      "outputs": [
        {
          "output_type": "stream",
          "text": [
            "(25240, 2)\n"
          ],
          "name": "stdout"
        }
      ]
    },
    {
      "cell_type": "code",
      "metadata": {
        "colab": {
          "base_uri": "https://localhost:8080/",
          "height": 221
        },
        "id": "Mm-lR95RX8ht",
        "outputId": "733ee7d9-c5ff-45d9-8cea-b1269c35731a"
      },
      "source": [
        "# Preprocess the data\n",
        "records = []\n",
        "for i in range(0,25240):\n",
        "  record = []\n",
        "  for j in range(1,2):\n",
        "    val = dataframe.values[i, j].split(\",\")\n",
        "    for k in val:\n",
        "      if k not in record:\n",
        "        record.append(k)\n",
        "  records.append([i, record])\n",
        "\n",
        "print(record)\n",
        "# Create the pandas DataFrame\n",
        "out = pd.DataFrame(records, columns = ['id', 'items'])\n",
        "out.head()"
      ],
      "execution_count": 73,
      "outputs": [
        {
          "output_type": "stream",
          "text": [
            "['ingarden']\n"
          ],
          "name": "stdout"
        },
        {
          "output_type": "execute_result",
          "data": {
            "text/html": [
              "<div>\n",
              "<style scoped>\n",
              "    .dataframe tbody tr th:only-of-type {\n",
              "        vertical-align: middle;\n",
              "    }\n",
              "\n",
              "    .dataframe tbody tr th {\n",
              "        vertical-align: top;\n",
              "    }\n",
              "\n",
              "    .dataframe thead th {\n",
              "        text-align: right;\n",
              "    }\n",
              "</style>\n",
              "<table border=\"1\" class=\"dataframe\">\n",
              "  <thead>\n",
              "    <tr style=\"text-align: right;\">\n",
              "      <th></th>\n",
              "      <th>id</th>\n",
              "      <th>items</th>\n",
              "    </tr>\n",
              "  </thead>\n",
              "  <tbody>\n",
              "    <tr>\n",
              "      <th>0</th>\n",
              "      <td>0</td>\n",
              "      <td>[runail, irisk, jessnail]</td>\n",
              "    </tr>\n",
              "    <tr>\n",
              "      <th>1</th>\n",
              "      <td>1</td>\n",
              "      <td>[nagaraku]</td>\n",
              "    </tr>\n",
              "    <tr>\n",
              "      <th>2</th>\n",
              "      <td>2</td>\n",
              "      <td>[cnd, beautix]</td>\n",
              "    </tr>\n",
              "    <tr>\n",
              "      <th>3</th>\n",
              "      <td>3</td>\n",
              "      <td>[runail, philips, irisk, ingarden, masura, sev...</td>\n",
              "    </tr>\n",
              "    <tr>\n",
              "      <th>4</th>\n",
              "      <td>4</td>\n",
              "      <td>[runail, bluesky, jessnail, gehwol]</td>\n",
              "    </tr>\n",
              "  </tbody>\n",
              "</table>\n",
              "</div>"
            ],
            "text/plain": [
              "   id                                              items\n",
              "0   0                          [runail, irisk, jessnail]\n",
              "1   1                                         [nagaraku]\n",
              "2   2                                     [cnd, beautix]\n",
              "3   3  [runail, philips, irisk, ingarden, masura, sev...\n",
              "4   4                [runail, bluesky, jessnail, gehwol]"
            ]
          },
          "metadata": {
            "tags": []
          },
          "execution_count": 73
        }
      ]
    },
    {
      "cell_type": "code",
      "metadata": {
        "id": "si8JsJLUvrec",
        "colab": {
          "base_uri": "https://localhost:8080/"
        },
        "outputId": "9ba6ee84-a278-4473-c836-703496050d81"
      },
      "source": [
        "# Convert the pandas dataframe into spark dataframe\n",
        "sqlContext = SQLContext(spark)\n",
        "sf = spark.createDataFrame(out,[\"id\", \"items\"])\n",
        "sf.show()"
      ],
      "execution_count": 74,
      "outputs": [
        {
          "output_type": "stream",
          "text": [
            "+---+--------------------+\n",
            "| id|               items|\n",
            "+---+--------------------+\n",
            "|  0|[runail, irisk, j...|\n",
            "|  1|          [nagaraku]|\n",
            "|  2|      [cnd, beautix]|\n",
            "|  3|[runail, philips,...|\n",
            "|  4|[runail, bluesky,...|\n",
            "|  5|             [f.o.x]|\n",
            "|  6|[cnd, orly, kinet...|\n",
            "|  7|     [runail, irisk]|\n",
            "|  8|[milv, kapous, es...|\n",
            "|  9|[runail, roubloff...|\n",
            "| 10|       [beauty-free]|\n",
            "| 11|[runail, bpw.styl...|\n",
            "| 12|[metzger, yoko, r...|\n",
            "| 13|[runail, milv, ma...|\n",
            "| 14|    [ingarden, emil]|\n",
            "| 15|[runail, pnb, iri...|\n",
            "| 16|[runail, art-visa...|\n",
            "| 17|[runail, staleks,...|\n",
            "| 18|[grattol, zinger,...|\n",
            "| 19|[severina, runail...|\n",
            "+---+--------------------+\n",
            "only showing top 20 rows\n",
            "\n"
          ],
          "name": "stdout"
        }
      ]
    },
    {
      "cell_type": "code",
      "metadata": {
        "colab": {
          "base_uri": "https://localhost:8080/"
        },
        "id": "YPyYzHn-vwPc",
        "outputId": "c27d206b-dd42-4482-8a1b-baaa64fe8a4a"
      },
      "source": [
        "# Create fpGrowth object by instantiating the FPGrowth constructor with the necessary parameters\n",
        "fpGrowth = FPGrowth(itemsCol=\"items\", minSupport=0.01, minConfidence=0.01)\n",
        "\n",
        "# Fit the dataframe into the fpGrowth object to get the model prepared\n",
        "model = fpGrowth.fit(sf)\n",
        "# Display the frequently occuring items\n",
        "model.freqItemsets.show()"
      ],
      "execution_count": 75,
      "outputs": [
        {
          "output_type": "stream",
          "text": [
            "+--------------------+----+\n",
            "|               items|freq|\n",
            "+--------------------+----+\n",
            "|               [cnd]| 686|\n",
            "|             [f.o.x]| 432|\n",
            "|             [smart]| 333|\n",
            "|              [rosi]| 370|\n",
            "|             [domix]|1650|\n",
            "|    [domix, grattol]| 278|\n",
            "|   [domix, ingarden]| 266|\n",
            "|      [domix, irisk]| 696|\n",
            "|[domix, irisk, ru...| 427|\n",
            "|     [domix, runail]| 782|\n",
            "|              [pole]| 985|\n",
            "|       [pole, irisk]| 377|\n",
            "|[pole, irisk, run...| 256|\n",
            "|      [pole, runail]| 476|\n",
            "|             [dewal]| 307|\n",
            "|          [nagaraku]| 636|\n",
            "|   [nagaraku, irisk]| 284|\n",
            "|              [milv]|1269|\n",
            "|       [milv, irisk]| 463|\n",
            "|[milv, irisk, run...| 295|\n",
            "+--------------------+----+\n",
            "only showing top 20 rows\n",
            "\n"
          ],
          "name": "stdout"
        }
      ]
    },
    {
      "cell_type": "code",
      "metadata": {
        "colab": {
          "base_uri": "https://localhost:8080/"
        },
        "id": "Z202vDb6v1ml",
        "outputId": "d2d22d37-9973-4ee7-b2b3-c337cf1a2740"
      },
      "source": [
        "# Display the generated association rules\n",
        "model.associationRules.show()"
      ],
      "execution_count": 76,
      "outputs": [
        {
          "output_type": "stream",
          "text": [
            "+-------------------+-----------+-------------------+------------------+--------------------+\n",
            "|         antecedent| consequent|         confidence|              lift|             support|\n",
            "+-------------------+-----------+-------------------+------------------+--------------------+\n",
            "| [severina, runail]|    [irisk]|  0.569371727748691|2.3059920424224907|0.017234548335974643|\n",
            "|             [pole]|    [irisk]|0.38274111675126904|1.5501260890247162|0.014936608557844691|\n",
            "|             [pole]|   [runail]|  0.483248730964467|1.5261759221150084|0.018858954041204436|\n",
            "|         [nagaraku]|    [irisk]|0.44654088050314467|1.8085192271982304|0.011251980982567354|\n",
            "|      [milv, irisk]|   [runail]| 0.6371490280777538|2.0122174009862994|0.011687797147385102|\n",
            "|           [zinger]|    [irisk]| 0.3663461538461538|1.4837254369507258|0.015095087163232964|\n",
            "|           [zinger]|   [runail]| 0.4307692307692308|1.3604373604373605| 0.01774960380348653|\n",
            "|[ingarden, grattol]|    [irisk]| 0.4722222222222222|1.9125303095136215|0.012123613312202852|\n",
            "|[ingarden, grattol]|   [runail]| 0.5540123456790124|1.7496586092265105|0.014223454833597464|\n",
            "|           [lovely]|    [irisk]| 0.3868194842406877|1.5666437391262769|0.010697305863708399|\n",
            "|           [de.lux]|    [irisk]|0.47346938775510206|1.9175814099709203|0.013787638668779715|\n",
            "|           [de.lux]|[bpw.style]| 0.4884353741496599|4.6328856984357065|0.014223454833597464|\n",
            "|           [de.lux]|   [runail]|  0.617687074829932|1.9507534745629984| 0.01798732171156894|\n",
            "|              [uno]|  [grattol]| 0.2614601018675722| 1.717660846209662|0.018304278922345485|\n",
            "|              [uno]| [ingarden]| 0.1624221844934918|1.7145696096259864|0.011370839936608557|\n",
            "|              [uno]|    [irisk]|0.32314657611771364|1.3087643743920239| 0.02262282091917591|\n",
            "|              [uno]|[bpw.style]|0.16808149405772496|1.5942791845234792| 0.01176703645007924|\n",
            "|              [uno]|   [runail]|0.41312959818902095|1.3047286108972582|0.028922345483359747|\n",
            "|[freedecor, runail]|    [irisk]| 0.4883303411131059|1.9777692249189334|0.010776545166402536|\n",
            "|[freedecor, runail]|[bpw.style]| 0.7055655296229802| 6.692399085939129|0.015570522979397781|\n",
            "+-------------------+-----------+-------------------+------------------+--------------------+\n",
            "only showing top 20 rows\n",
            "\n"
          ],
          "name": "stdout"
        }
      ]
    },
    {
      "cell_type": "code",
      "metadata": {
        "colab": {
          "base_uri": "https://localhost:8080/"
        },
        "id": "FzmRgl25v4pw",
        "outputId": "02d4acb6-3355-446d-dc4e-3a35685c10dd"
      },
      "source": [
        "# Predicts what the customer is most likely to buy with the items bought in the dataset\n",
        "model.transform(sf).show(20)"
      ],
      "execution_count": 77,
      "outputs": [
        {
          "output_type": "stream",
          "text": [
            "+---+--------------------+--------------------+\n",
            "| id|               items|          prediction|\n",
            "+---+--------------------+--------------------+\n",
            "|  0|[runail, irisk, j...|[domix, pole, mil...|\n",
            "|  1|          [nagaraku]|             [irisk]|\n",
            "|  2|      [cnd, beautix]|                  []|\n",
            "|  3|[runail, philips,...|[domix, pole, lia...|\n",
            "|  4|[runail, bluesky,...|[irisk, domix, po...|\n",
            "|  5|             [f.o.x]|                  []|\n",
            "|  6|[cnd, orly, kinet...|                  []|\n",
            "|  7|     [runail, irisk]|[domix, pole, mil...|\n",
            "|  8|[milv, kapous, es...|[runail, concept,...|\n",
            "|  9|[runail, roubloff...|[irisk, bpw.style...|\n",
            "| 10|       [beauty-free]|                  []|\n",
            "| 11|[runail, bpw.styl...|[domix, pole, lia...|\n",
            "| 12|[metzger, yoko, r...|[domix, pole, mil...|\n",
            "| 13|[runail, milv, ma...|[domix, pole, lia...|\n",
            "| 14|    [ingarden, emil]|[domix, masura, g...|\n",
            "| 15|[runail, pnb, iri...|[domix, pole, mil...|\n",
            "| 16|[runail, art-visa...|[domix, pole, mil...|\n",
            "| 17|[runail, staleks,...|[domix, pole, mil...|\n",
            "| 18|[grattol, zinger,...|[irisk, runail, d...|\n",
            "| 19|[severina, runail...|[irisk, ingarden,...|\n",
            "+---+--------------------+--------------------+\n",
            "only showing top 20 rows\n",
            "\n"
          ],
          "name": "stdout"
        }
      ]
    }
  ]
}