{
  "nbformat": 4,
  "nbformat_minor": 0,
  "metadata": {
    "colab": {
      "name": "FP Growth Algorithm(Association).ipynb",
      "provenance": [],
      "mount_file_id": "1fkBzPfC76maXIy8ctChnNvwpUgxaZPgM",
      "authorship_tag": "ABX9TyOPxbDiG+2tu8cSRMSPts8/",
      "include_colab_link": true
    },
    "kernelspec": {
      "display_name": "Python 3",
      "name": "python3"
    },
    "language_info": {
      "name": "python"
    }
  },
  "cells": [
    {
      "cell_type": "markdown",
      "metadata": {
        "id": "view-in-github",
        "colab_type": "text"
      },
      "source": [
        "<a href=\"https://colab.research.google.com/github/Dushanthimadhushika3/FP-Growth-Algorithm/blob/main/FP_Growth_Algorithm(Association).ipynb\" target=\"_parent\"><img src=\"https://colab.research.google.com/assets/colab-badge.svg\" alt=\"Open In Colab\"/></a>"
      ]
    },
    {
      "cell_type": "code",
      "metadata": {
        "colab": {
          "base_uri": "https://localhost:8080/"
        },
        "id": "IVvyWlQ-pIKL",
        "outputId": "967f2acd-111a-4d0b-a8c8-ac77fe2bed71"
      },
      "source": [
        "!pip install pyspark"
      ],
      "execution_count": null,
      "outputs": [
        {
          "output_type": "stream",
          "text": [
            "Collecting pyspark\n",
            "\u001b[?25l  Downloading https://files.pythonhosted.org/packages/89/db/e18cfd78e408de957821ec5ca56de1250645b05f8523d169803d8df35a64/pyspark-3.1.2.tar.gz (212.4MB)\n",
            "\u001b[K     |████████████████████████████████| 212.4MB 71kB/s \n",
            "\u001b[?25hCollecting py4j==0.10.9\n",
            "\u001b[?25l  Downloading https://files.pythonhosted.org/packages/9e/b6/6a4fb90cd235dc8e265a6a2067f2a2c99f0d91787f06aca4bcf7c23f3f80/py4j-0.10.9-py2.py3-none-any.whl (198kB)\n",
            "\u001b[K     |████████████████████████████████| 204kB 18.7MB/s \n",
            "\u001b[?25hBuilding wheels for collected packages: pyspark\n",
            "  Building wheel for pyspark (setup.py) ... \u001b[?25l\u001b[?25hdone\n",
            "  Created wheel for pyspark: filename=pyspark-3.1.2-py2.py3-none-any.whl size=212880768 sha256=5fff9ec8049d1b846200a5a634f76d3e341a7bb6365a86ad07d9b3b4fc3aa956\n",
            "  Stored in directory: /root/.cache/pip/wheels/40/1b/2c/30f43be2627857ab80062bef1527c0128f7b4070b6b2d02139\n",
            "Successfully built pyspark\n",
            "Installing collected packages: py4j, pyspark\n",
            "Successfully installed py4j-0.10.9 pyspark-3.1.2\n"
          ],
          "name": "stdout"
        }
      ]
    },
    {
      "cell_type": "code",
      "metadata": {
        "id": "9iqk65qfuIoN"
      },
      "source": [
        "from pyspark.sql import SparkSession\n",
        "\n",
        "spark = SparkSession.builder.master(\"local\").appName(\"Colab\")\\\n",
        "        .config('spark.ui.port', '4050').getOrCreate()"
      ],
      "execution_count": null,
      "outputs": []
    },
    {
      "cell_type": "code",
      "metadata": {
        "colab": {
          "base_uri": "https://localhost:8080/"
        },
        "id": "di9lx1Lzvgdw",
        "outputId": "b3331b86-c89a-4a6c-93f8-8b4bc6fedff7"
      },
      "source": [
        "import pandas as pd\n",
        "import glob\n",
        "\n",
        "csv = glob.glob('/content/drive/MyDrive/L4S1/Big Data'+'/*.csv')\n",
        "\n",
        "# Read the data from the dataset\n",
        "for f in csv:\n",
        "  df = pd.read_csv(f)"
      ],
      "execution_count": null,
      "outputs": [
        {
          "output_type": "stream",
          "text": [
            "/usr/local/lib/python3.7/dist-packages/IPython/core/interactiveshell.py:2718: DtypeWarning: Columns (2) have mixed types.Specify dtype option on import or set low_memory=False.\n",
            "  interactivity=interactivity, compiler=compiler, result=result)\n"
          ],
          "name": "stderr"
        }
      ]
    },
    {
      "cell_type": "code",
      "metadata": {
        "colab": {
          "base_uri": "https://localhost:8080/",
          "height": 459
        },
        "id": "MckCsj1tDGve",
        "outputId": "0906306d-f9b1-41ea-8812-332b645492ab"
      },
      "source": [
        "df.head()"
      ],
      "execution_count": null,
      "outputs": [
        {
          "output_type": "execute_result",
          "data": {
            "text/html": [
              "<div>\n",
              "<style scoped>\n",
              "    .dataframe tbody tr th:only-of-type {\n",
              "        vertical-align: middle;\n",
              "    }\n",
              "\n",
              "    .dataframe tbody tr th {\n",
              "        vertical-align: top;\n",
              "    }\n",
              "\n",
              "    .dataframe thead th {\n",
              "        text-align: right;\n",
              "    }\n",
              "</style>\n",
              "<table border=\"1\" class=\"dataframe\">\n",
              "  <thead>\n",
              "    <tr style=\"text-align: right;\">\n",
              "      <th></th>\n",
              "      <th>event_time</th>\n",
              "      <th>event_type</th>\n",
              "      <th>product_id</th>\n",
              "      <th>category_id</th>\n",
              "      <th>category_code</th>\n",
              "      <th>brand</th>\n",
              "      <th>price</th>\n",
              "      <th>user_id</th>\n",
              "      <th>user_session</th>\n",
              "    </tr>\n",
              "  </thead>\n",
              "  <tbody>\n",
              "    <tr>\n",
              "      <th>0</th>\n",
              "      <td>2019-10-01 00:00:00 UTC</td>\n",
              "      <td>cart</td>\n",
              "      <td>5773203</td>\n",
              "      <td>1487580005134238553</td>\n",
              "      <td>NaN</td>\n",
              "      <td>runail</td>\n",
              "      <td>2.62</td>\n",
              "      <td>463240011</td>\n",
              "      <td>26dd6e6e-4dac-4778-8d2c-92e149dab885</td>\n",
              "    </tr>\n",
              "    <tr>\n",
              "      <th>1</th>\n",
              "      <td>2019-10-01 00:00:03 UTC</td>\n",
              "      <td>cart</td>\n",
              "      <td>5773353</td>\n",
              "      <td>1487580005134238553</td>\n",
              "      <td>NaN</td>\n",
              "      <td>runail</td>\n",
              "      <td>2.62</td>\n",
              "      <td>463240011</td>\n",
              "      <td>26dd6e6e-4dac-4778-8d2c-92e149dab885</td>\n",
              "    </tr>\n",
              "    <tr>\n",
              "      <th>2</th>\n",
              "      <td>2019-10-01 00:00:07 UTC</td>\n",
              "      <td>cart</td>\n",
              "      <td>5881589</td>\n",
              "      <td>2151191071051219817</td>\n",
              "      <td>NaN</td>\n",
              "      <td>lovely</td>\n",
              "      <td>13.48</td>\n",
              "      <td>429681830</td>\n",
              "      <td>49e8d843-adf3-428b-a2c3-fe8bc6a307c9</td>\n",
              "    </tr>\n",
              "    <tr>\n",
              "      <th>3</th>\n",
              "      <td>2019-10-01 00:00:07 UTC</td>\n",
              "      <td>cart</td>\n",
              "      <td>5723490</td>\n",
              "      <td>1487580005134238553</td>\n",
              "      <td>NaN</td>\n",
              "      <td>runail</td>\n",
              "      <td>2.62</td>\n",
              "      <td>463240011</td>\n",
              "      <td>26dd6e6e-4dac-4778-8d2c-92e149dab885</td>\n",
              "    </tr>\n",
              "    <tr>\n",
              "      <th>4</th>\n",
              "      <td>2019-10-01 00:00:15 UTC</td>\n",
              "      <td>cart</td>\n",
              "      <td>5881449</td>\n",
              "      <td>1487580013522845895</td>\n",
              "      <td>NaN</td>\n",
              "      <td>lovely</td>\n",
              "      <td>0.56</td>\n",
              "      <td>429681830</td>\n",
              "      <td>49e8d843-adf3-428b-a2c3-fe8bc6a307c9</td>\n",
              "    </tr>\n",
              "  </tbody>\n",
              "</table>\n",
              "</div>"
            ],
            "text/plain": [
              "                event_time  ...                          user_session\n",
              "0  2019-10-01 00:00:00 UTC  ...  26dd6e6e-4dac-4778-8d2c-92e149dab885\n",
              "1  2019-10-01 00:00:03 UTC  ...  26dd6e6e-4dac-4778-8d2c-92e149dab885\n",
              "2  2019-10-01 00:00:07 UTC  ...  49e8d843-adf3-428b-a2c3-fe8bc6a307c9\n",
              "3  2019-10-01 00:00:07 UTC  ...  26dd6e6e-4dac-4778-8d2c-92e149dab885\n",
              "4  2019-10-01 00:00:15 UTC  ...  49e8d843-adf3-428b-a2c3-fe8bc6a307c9\n",
              "\n",
              "[5 rows x 9 columns]"
            ]
          },
          "metadata": {
            "tags": []
          },
          "execution_count": 4
        }
      ]
    },
    {
      "cell_type": "code",
      "metadata": {
        "colab": {
          "base_uri": "https://localhost:8080/"
        },
        "id": "qTb4ah_aNsmw",
        "outputId": "da3dc7ce-7dfc-41f7-b0e3-7472e7d3398c"
      },
      "source": [
        "sc = df[['user_session','brand','user_id','event_type']]\n",
        "sc = sc.loc[sc['event_type']=='purchase']\n",
        "sc = sc[['user_session','brand']]\n",
        "sc = sc.dropna()\n",
        "print(sc.shape)\n",
        "sc.head()\n",
        "\n",
        "sc.to_csv('/content/purchase.csv')"
      ],
      "execution_count": null,
      "outputs": [
        {
          "output_type": "stream",
          "text": [
            "(1119818, 2)\n"
          ],
          "name": "stdout"
        }
      ]
    },
    {
      "cell_type": "code",
      "metadata": {
        "id": "zpjCqDI5cdcy",
        "colab": {
          "base_uri": "https://localhost:8080/"
        },
        "outputId": "af9b234d-631b-4bb4-ae14-936774fa8ac7"
      },
      "source": [
        "session_id_col_name = 'user_session'\n",
        "product_id_col_name = 'brand'\n",
        "session_id_col_index = -1\n",
        "product_id_col_index = -1\n",
        "data = dict()\n",
        "\n",
        "with open('/content/purchase.csv') as f:\n",
        "    lis = [line.rstrip().split(',') for line in f]        \n",
        "    for i, x in enumerate(lis):              \n",
        "        if i == 0:\n",
        "            if type(x) is list and session_id_col_name in x and product_id_col_name in x: # column names\n",
        "                session_id_col_index = x.index(session_id_col_name)\n",
        "                product_id_col_index = x.index(product_id_col_name)\n",
        "            else:\n",
        "                print('Required columns does not exists in given csv file')\n",
        "                break\n",
        "        else:\n",
        "            if x[session_id_col_index] in data:\n",
        "                data[x[session_id_col_index]] = data[x[session_id_col_index]] + ',' + x[product_id_col_index]\n",
        "            else:\n",
        "                data[x[session_id_col_index]] = x[product_id_col_index]\n",
        "\n",
        "\n",
        "# Create the pandas DataFrame\n",
        "dataframe = pd.DataFrame(list(data.items()),columns=[session_id_col_name,product_id_col_name])\n",
        "dataframe.head()\n",
        "print(dataframe.shape)\n"
      ],
      "execution_count": null,
      "outputs": [
        {
          "output_type": "stream",
          "text": [
            "(541658, 2)\n"
          ],
          "name": "stdout"
        }
      ]
    },
    {
      "cell_type": "code",
      "metadata": {
        "colab": {
          "base_uri": "https://localhost:8080/",
          "height": 221
        },
        "id": "Mm-lR95RX8ht",
        "outputId": "4f66ffb6-8c41-4dc9-a8a5-f1b35d88f258"
      },
      "source": [
        "# Preprocess the data\n",
        "records = []\n",
        "for i in range(0,541658):\n",
        "  record = []\n",
        "  for j in range(1,2):\n",
        "    val = dataframe.values[i, j].split(\",\")\n",
        "    for k in val:\n",
        "      if k not in record:\n",
        "        record.append(k)\n",
        "  records.append([i, record])\n",
        "\n",
        "print(record)\n",
        "# Create the pandas DataFrame\n",
        "out = pd.DataFrame(records, columns = ['id', 'items'])\n",
        "out.head()"
      ],
      "execution_count": null,
      "outputs": [
        {
          "output_type": "stream",
          "text": [
            "['cnd']\n"
          ],
          "name": "stdout"
        },
        {
          "output_type": "execute_result",
          "data": {
            "text/html": [
              "<div>\n",
              "<style scoped>\n",
              "    .dataframe tbody tr th:only-of-type {\n",
              "        vertical-align: middle;\n",
              "    }\n",
              "\n",
              "    .dataframe tbody tr th {\n",
              "        vertical-align: top;\n",
              "    }\n",
              "\n",
              "    .dataframe thead th {\n",
              "        text-align: right;\n",
              "    }\n",
              "</style>\n",
              "<table border=\"1\" class=\"dataframe\">\n",
              "  <thead>\n",
              "    <tr style=\"text-align: right;\">\n",
              "      <th></th>\n",
              "      <th>id</th>\n",
              "      <th>items</th>\n",
              "    </tr>\n",
              "  </thead>\n",
              "  <tbody>\n",
              "    <tr>\n",
              "      <th>0</th>\n",
              "      <td>0</td>\n",
              "      <td>[lianail, f.o.x, bluesky, pole, yoko, masura, ...</td>\n",
              "    </tr>\n",
              "    <tr>\n",
              "      <th>1</th>\n",
              "      <td>1</td>\n",
              "      <td>[runail]</td>\n",
              "    </tr>\n",
              "    <tr>\n",
              "      <th>2</th>\n",
              "      <td>2</td>\n",
              "      <td>[cnd, ingarden, haruyama, beauty-free, irisk, ...</td>\n",
              "    </tr>\n",
              "    <tr>\n",
              "      <th>3</th>\n",
              "      <td>3</td>\n",
              "      <td>[f.o.x]</td>\n",
              "    </tr>\n",
              "    <tr>\n",
              "      <th>4</th>\n",
              "      <td>4</td>\n",
              "      <td>[runail]</td>\n",
              "    </tr>\n",
              "  </tbody>\n",
              "</table>\n",
              "</div>"
            ],
            "text/plain": [
              "   id                                              items\n",
              "0   0  [lianail, f.o.x, bluesky, pole, yoko, masura, ...\n",
              "1   1                                           [runail]\n",
              "2   2  [cnd, ingarden, haruyama, beauty-free, irisk, ...\n",
              "3   3                                            [f.o.x]\n",
              "4   4                                           [runail]"
            ]
          },
          "metadata": {
            "tags": []
          },
          "execution_count": 6
        }
      ]
    },
    {
      "cell_type": "code",
      "metadata": {
        "id": "si8JsJLUvrec",
        "colab": {
          "base_uri": "https://localhost:8080/"
        },
        "outputId": "f805d38d-f48b-49cd-8ecb-7178814532db"
      },
      "source": [
        "# Import the FPGrowth API from PySpark\n",
        "from pyspark.ml.fpm import FPGrowth\n",
        "from pyspark.sql import SQLContext\n",
        "\n",
        "# Convert the pandas dataframe into spark dataframe\n",
        "sqlContext = SQLContext(spark)\n",
        "sf = spark.createDataFrame(out,[\"id\", \"items\"])\n",
        "sf.show()"
      ],
      "execution_count": null,
      "outputs": [
        {
          "output_type": "stream",
          "text": [
            "+---+--------------------+\n",
            "| id|               items|\n",
            "+---+--------------------+\n",
            "|  0|[lianail, f.o.x, ...|\n",
            "|  1|            [runail]|\n",
            "|  2|[cnd, ingarden, h...|\n",
            "|  3|             [f.o.x]|\n",
            "|  4|            [runail]|\n",
            "|  5|      [pole, runail]|\n",
            "|  6|            [lovely]|\n",
            "|  7|              [keen]|\n",
            "|  8|          [jessnail]|\n",
            "|  9|       [irisk, yoko]|\n",
            "| 10|[pole, limoni, na...|\n",
            "| 11|             [estel]|\n",
            "| 12|[lovely, oniq, ha...|\n",
            "| 13|           [concept]|\n",
            "| 14|               [cnd]|\n",
            "| 15|             [thuya]|\n",
            "| 16|            [runail]|\n",
            "| 17|          [roubloff]|\n",
            "| 18|            [masura]|\n",
            "| 19|           [beautix]|\n",
            "+---+--------------------+\n",
            "only showing top 20 rows\n",
            "\n"
          ],
          "name": "stdout"
        }
      ]
    },
    {
      "cell_type": "code",
      "metadata": {
        "colab": {
          "base_uri": "https://localhost:8080/"
        },
        "id": "YPyYzHn-vwPc",
        "outputId": "998a3675-e750-4940-9ea4-b28eb4319632"
      },
      "source": [
        "# Create fpGrowth object by instantiating the FPGrowth constructor with the necessary parameters\n",
        "fpGrowth = FPGrowth(itemsCol=\"items\", minSupport=0.01, minConfidence=0.001)\n",
        "\n",
        "# Fit the dataframe into the fpGrowth object to get the model prepared\n",
        "model = fpGrowth.fit(sf)\n",
        "# Display the frequently occuring items\n",
        "model.freqItemsets.show()"
      ],
      "execution_count": null,
      "outputs": [
        {
          "output_type": "stream",
          "text": [
            "+---------------+-----+\n",
            "|          items| freq|\n",
            "+---------------+-----+\n",
            "|      [lianail]| 7175|\n",
            "|    [bpw.style]|19482|\n",
            "|       [zinger]| 9230|\n",
            "|         [yoko]| 6560|\n",
            "|          [cnd]|14501|\n",
            "|       [masura]|42449|\n",
            "|     [haruyama]| 8012|\n",
            "|       [kapous]|23087|\n",
            "|      [bluesky]|10817|\n",
            "|        [estel]|26533|\n",
            "|         [pole]|10917|\n",
            "|        [f.o.x]| 7300|\n",
            "|         [milv]| 9608|\n",
            "|     [ingarden]|19950|\n",
            "|          [pnb]| 6815|\n",
            "|          [uno]|15787|\n",
            "|        [irisk]|54302|\n",
            "|[irisk, runail]| 9127|\n",
            "|         [oniq]| 8253|\n",
            "|       [lovely]| 6089|\n",
            "+---------------+-----+\n",
            "only showing top 20 rows\n",
            "\n"
          ],
          "name": "stdout"
        }
      ]
    },
    {
      "cell_type": "code",
      "metadata": {
        "colab": {
          "base_uri": "https://localhost:8080/"
        },
        "id": "Z202vDb6v1ml",
        "outputId": "1be23747-8965-418d-a22d-d8f6a4bd72d4"
      },
      "source": [
        "# Display the generated association rules\n",
        "model.associationRules.show()"
      ],
      "execution_count": null,
      "outputs": [
        {
          "output_type": "stream",
          "text": [
            "+----------+----------+-------------------+------------------+--------------------+\n",
            "|antecedent|consequent|         confidence|              lift|             support|\n",
            "+----------+----------+-------------------+------------------+--------------------+\n",
            "|  [runail]|   [irisk]|0.12888512320835982|1.2856185419836057|0.016850115755698246|\n",
            "|   [irisk]|  [runail]|0.16807852381127766| 1.285618541983606|0.016850115755698246|\n",
            "+----------+----------+-------------------+------------------+--------------------+\n",
            "\n"
          ],
          "name": "stdout"
        }
      ]
    },
    {
      "cell_type": "code",
      "metadata": {
        "colab": {
          "base_uri": "https://localhost:8080/"
        },
        "id": "FzmRgl25v4pw",
        "outputId": "546d69f1-3c13-4ccc-99ca-a9e5b5a0b516"
      },
      "source": [
        "# Predicts what the customer is most likely to buy with the items bought in the dataset\n",
        "model.transform(sf).show(30)"
      ],
      "execution_count": null,
      "outputs": [
        {
          "output_type": "stream",
          "text": [
            "+---+--------------------+----------+\n",
            "| id|               items|prediction|\n",
            "+---+--------------------+----------+\n",
            "|  0|[lianail, f.o.x, ...|        []|\n",
            "|  1|            [runail]|   [irisk]|\n",
            "|  2|[cnd, ingarden, h...|        []|\n",
            "|  3|             [f.o.x]|        []|\n",
            "|  4|            [runail]|   [irisk]|\n",
            "|  5|      [pole, runail]|   [irisk]|\n",
            "|  6|            [lovely]|        []|\n",
            "|  7|              [keen]|        []|\n",
            "|  8|          [jessnail]|        []|\n",
            "|  9|       [irisk, yoko]|  [runail]|\n",
            "| 10|[pole, limoni, na...|        []|\n",
            "| 11|             [estel]|        []|\n",
            "| 12|[lovely, oniq, ha...|  [runail]|\n",
            "| 13|           [concept]|        []|\n",
            "| 14|               [cnd]|        []|\n",
            "| 15|             [thuya]|        []|\n",
            "| 16|            [runail]|   [irisk]|\n",
            "| 17|          [roubloff]|        []|\n",
            "| 18|            [masura]|        []|\n",
            "| 19|           [beautix]|        []|\n",
            "| 20|               [uno]|        []|\n",
            "| 21|            [masura]|        []|\n",
            "| 22|            [runail]|   [irisk]|\n",
            "| 23|          [ingarden]|        []|\n",
            "| 24|          [roubloff]|        []|\n",
            "| 25|             [irisk]|  [runail]|\n",
            "| 26|            [runail]|   [irisk]|\n",
            "| 27|               [cnd]|        []|\n",
            "| 28|             [irisk]|  [runail]|\n",
            "| 29|               [cnd]|        []|\n",
            "+---+--------------------+----------+\n",
            "only showing top 30 rows\n",
            "\n"
          ],
          "name": "stdout"
        }
      ]
    }
  ]
}